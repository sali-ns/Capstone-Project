{
 "cells": [
  {
   "cell_type": "markdown",
   "metadata": {},
   "source": [
    "### Introduction\n",
    "The purpose of this Capstone Project is to use what we learned throughout the course in order to study facilities of New York City neighborhoods.\n",
    "### Problem Backgorund \n",
    "Let's assume that the coronavirus is over and we can go abroad. New York is a popular destination for tourists, but they can be overwhelmed by the number of places to see in a limited amount of time. Therefore, we need to explore and analyze the most popular venues and make a decision since that. \n",
    "### Data Section\n",
    "To obtain information about places of New York City, Foursquare, a location data provider, will be used. The New York City data used in the third week was selected for the dataset."
   ]
  },
  {
   "cell_type": "code",
   "execution_count": null,
   "metadata": {},
   "outputs": [],
   "source": []
  }
 ],
 "metadata": {
  "kernelspec": {
   "display_name": "Python 3",
   "language": "python",
   "name": "python3"
  },
  "language_info": {
   "codemirror_mode": {
    "name": "ipython",
    "version": 3
   },
   "file_extension": ".py",
   "mimetype": "text/x-python",
   "name": "python",
   "nbconvert_exporter": "python",
   "pygments_lexer": "ipython3",
   "version": "3.8.3"
  }
 },
 "nbformat": 4,
 "nbformat_minor": 4
}
